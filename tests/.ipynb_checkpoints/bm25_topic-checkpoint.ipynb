{
 "cells": [
  {
   "cell_type": "code",
   "execution_count": 1,
   "id": "4f3f9ac4-8993-472b-93b8-dbed0156db93",
   "metadata": {},
   "outputs": [],
   "source": [
    "%%capture\n",
    "!pip install git+https://github.com/neuml/txtai#egg=txtai[graph] datasets"
   ]
  },
  {
   "cell_type": "code",
   "execution_count": 4,
   "id": "c70996a3-2b7e-4801-8c30-13fc91f76eb2",
   "metadata": {},
   "outputs": [],
   "source": [
    "import mysql.connector as mariadb\n",
    "import sys\n",
    "\n",
    "from txtai.scoring import ScoringFactory\n",
    "\n",
    "# Connect to MariaDB Platform\n",
    "try:\n",
    "    conn = mariadb.connect(\n",
    "        user=\"\",\n",
    "        password=\"\",\n",
    "        host=\"projetokardec.ufjf.br\",\n",
    "        port=3306,\n",
    "        database=\"kardec_db\"\n",
    "\n",
    "    )\n",
    "except mariadb.Error as e:\n",
    "    print(f\"Error connecting to MariaDB Platform: {e}\")\n",
    "    sys.exit(1)\n",
    "\n",
    "# Get Cursor\n",
    "cur = conn.cursor()\n",
    "# Select tagged sentences without a NLP label. NLP labels are set for non-informative sentences.\n",
    "cur.execute(\"SELECT idSentence as id, text, '' from ak_sentence\")\n",
    "\n",
    "# Build index\n",
    "scoring = ScoringFactory.create({\"method\": \"bm25\", \"terms\": True})\n",
    "scoring.index(cur)\n",
    "\n",
    "# Free database resources\n",
    "conn.close()\n",
    "\n",
    "# Show total\n",
    "scoring.count()\n",
    "\n"
   ]
  },
  {
   "cell_type": "code",
   "execution_count": null,
   "id": "42a9f9ab-9a67-496c-8174-b5393383efc7",
   "metadata": {},
   "outputs": [],
   "source": []
  }
 ],
 "metadata": {
  "kernelspec": {
   "display_name": "Python 3 (ipykernel)",
   "language": "python",
   "name": "python3"
  },
  "language_info": {
   "codemirror_mode": {
    "name": "ipython",
    "version": 3
   },
   "file_extension": ".py",
   "mimetype": "text/x-python",
   "name": "python",
   "nbconvert_exporter": "python",
   "pygments_lexer": "ipython3",
   "version": "3.11.5"
  }
 },
 "nbformat": 4,
 "nbformat_minor": 5
}
