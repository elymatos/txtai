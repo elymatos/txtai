{
 "cells": [
  {
   "cell_type": "code",
   "execution_count": 1,
   "id": "b6bb4882-68ac-42c2-aeb6-d142fabc0d6f",
   "metadata": {},
   "outputs": [],
   "source": [
    "import torch\n",
    "from transformers import AutoTokenizer, AutoModelForCausalLM"
   ]
  },
  {
   "cell_type": "code",
   "execution_count": 2,
   "id": "1af4df0b-5249-4071-a3e1-d1f85cdd7ee9",
   "metadata": {},
   "outputs": [
    {
     "data": {
      "application/vnd.jupyter.widget-view+json": {
       "model_id": "27a09d339d694d1ca55c72c243a7ff3b",
       "version_major": 2,
       "version_minor": 0
      },
      "text/plain": [
       "VBox(children=(HTML(value='<center> <img\\nsrc=https://huggingface.co/front/assets/huggingface_logo-noborder.sv…"
      ]
     },
     "metadata": {},
     "output_type": "display_data"
    }
   ],
   "source": [
    "from huggingface_hub import notebook_login\n",
    "\n",
    "notebook_login()"
   ]
  },
  {
   "cell_type": "code",
   "execution_count": 2,
   "id": "3c5317f3-9ef9-4353-9ad6-4ddfb0d675ed",
   "metadata": {},
   "outputs": [
    {
     "data": {
      "application/vnd.jupyter.widget-view+json": {
       "model_id": "8f5cf4fc91574142a72934b6b32f6188",
       "version_major": 2,
       "version_minor": 0
      },
      "text/plain": [
       "Loading checkpoint shards:   0%|          | 0/3 [00:00<?, ?it/s]"
      ]
     },
     "metadata": {},
     "output_type": "display_data"
    },
    {
     "name": "stderr",
     "output_type": "stream",
     "text": [
      "Some parameters are on the meta device because they were offloaded to the cpu.\n"
     ]
    }
   ],
   "source": [
    "model_name = \"mistralai/Mistral-7B-Instruct-v0.2\"\n",
    "tokenizer = AutoTokenizer.from_pretrained(model_name)\n",
    "model = AutoModelForCausalLM.from_pretrained(\n",
    "    model_name,\n",
    "    trust_remote_code=True,\n",
    "    torch_dtype=torch.float16,\n",
    "    # load_in_8bit=True,\n",
    "    # load_in_4bit=True,\n",
    "    device_map=\"auto\",\n",
    "    use_cache=True,\n",
    ")"
   ]
  },
  {
   "cell_type": "code",
   "execution_count": 3,
   "id": "e40f36b8-4bce-4ea5-904b-eb3ee3f887d1",
   "metadata": {},
   "outputs": [
    {
     "name": "stderr",
     "output_type": "stream",
     "text": [
      "2024-09-12 13:22:03.645601: I tensorflow/core/platform/cpu_feature_guard.cc:182] This TensorFlow binary is optimized to use available CPU instructions in performance-critical operations.\n",
      "To enable the following instructions: SSE4.1 SSE4.2 AVX AVX2 AVX512F AVX512_VNNI AVX512_BF16 FMA, in other operations, rebuild TensorFlow with the appropriate compiler flags.\n"
     ]
    },
    {
     "name": "stdout",
     "output_type": "stream",
     "text": [
      "cuda:0\n"
     ]
    },
    {
     "name": "stderr",
     "output_type": "stream",
     "text": [
      "/tmp/ipykernel_296988/2705066920.py:20: LangChainDeprecationWarning: The class `HuggingFacePipeline` was deprecated in LangChain 0.0.37 and will be removed in 1.0. An updated version of the class exists in the langchain-huggingface package and should be used instead. To use it run `pip install -U langchain-huggingface` and import as `from langchain_huggingface import HuggingFacePipeline`.\n",
      "  llm = HuggingFacePipeline(pipeline=text_pipeline, model_kwargs={\"temperature\": 0.1})\n"
     ]
    }
   ],
   "source": [
    "from langchain.prompts.few_shot import FewShotPromptTemplate\n",
    "from langchain.prompts.prompt import PromptTemplate\n",
    "\n",
    "from transformers import AutoTokenizer, TextStreamer, pipeline,LlamaForCausalLM,AutoModelForCausalLM\n",
    "from langchain import HuggingFacePipeline, PromptTemplate\n",
    "DEVICE = \"cuda:0\" if torch.cuda.is_available() else \"cpu\"\n",
    "print(DEVICE)\n",
    "streamer = TextStreamer(tokenizer, skip_prompt=True, skip_special_tokens=True)\n",
    "\n",
    "text_pipeline = pipeline(\n",
    "    \"text-generation\",\n",
    "    model=model,\n",
    "    tokenizer=tokenizer,\n",
    "    max_new_tokens=5000,\n",
    "    do_sample=False,\n",
    "    repetition_penalty=1.15,\n",
    "    streamer=streamer\n",
    ")\n",
    "\n",
    "llm = HuggingFacePipeline(pipeline=text_pipeline, model_kwargs={\"temperature\": 0.1})"
   ]
  },
  {
   "cell_type": "code",
   "execution_count": 18,
   "id": "604811d4-7493-47e6-a5dd-43b1457077dc",
   "metadata": {},
   "outputs": [],
   "source": [
    "person_prompt_tpl=\"\"\"From the text below written in Portuguese language, extract Entities strictly as instructed below\n",
    "1. First, look for the Person Entity type in the text and extract the needed information defined below:\n",
    "   `id` property of each entity must be alphanumeric and must be unique among the entities. You will be referring this property to define the relationship between entities. NEVER create new entity types that aren't mentioned below. Document must be summarized and stored inside Person entity under `description` property\n",
    "    Entity Types:\n",
    "    label:'Person',id:string,name:string //Person Node\n",
    "2. If you cannot find any information on the entities & relationships above, it is okay to return empty value. DO NOT create fictious data\n",
    "3. Do NOT create duplicate entities\n",
    "4. Restrict yourself to extract only Person information. No other information should be focussed.\n",
    "5. NEVER Impute missing values\n",
    "6. Many names of persosn are preceded by the words \"senhor\" and \"senhora\".\n",
    "Example Output JSON:\n",
    "{{\"entities\": [{{\"label\":\"Person\",\"id\":\"person1\",\"name\":\"Amelie\"}}]}}\n",
    "\n",
    "Question: Now, extract the Person for the text below -\n",
    "\n",
    "{text}\n",
    "\n",
    "Answer:\n",
    "\"\"\""
   ]
  },
  {
   "cell_type": "code",
   "execution_count": 11,
   "id": "793468f2-ace9-474e-8e37-7b5db346082d",
   "metadata": {},
   "outputs": [],
   "source": [
    "text=\"Terça-feira, 15 de setembro de 1863.  Minha querida Amélie, recebi tua carta esta manhã e, embora de minha parte eu não tenha nada de especial para te dizer, não queria demorar para agradecer ao senhor d’Ambel e ao senhor Canu pelo que eles fizeram pela senhora Costeau, pois atuaram como verdadeiros espíritas; a fala deles foi admirável; demonstraram ter bondade, o que não me surpreende, pois a fé que eles têm é sincera. Agradeço, igualmente, ao senhor Vézy.  Em relação à viúva, tu sabes que o senhor Prévent deu-me 200 francos para as boas obras; tu podes valer-te dessa quantia para ajudá-la. Esse dinheiro não poderia ter melhor destino.  Estou entusiasmado com as boas notícias que tu me deste; os Espíritos tinham razão em me dizer que, quando voltasse, eu encontraria um progresso significativo. A comunicação que Erasto me fez através do senhor d’Ambel me é muito encorajadora, e por isso lhe agradeço; a mensagem está de acordo com aquela que A Verdade me comunicou através da senhora Judith.  Tu não me disseste nada a respeito da tua saúde, o que me faz presumir que ela esteja bem, mas /2/ eu ficaria mais tranquilo se tivesse uma confirmação a esse respeito. Quanto a mim, estou muito bem; os últimos banhos que tomei me fortaleceram de uma maneira incrível; não tenho mais aquela fraqueza nas pernas que eu vinha sentindo há muito tempo. Pude provar isso no domingo. O tempo estava muito bom, e eu estava bem tranquilo, ou seja, quase não tive trabalho. Após meu banho, fiz um longo passeio no mar em um pequeno barco a vela e, embora o mar estivesse calmo, pensei que tu não irias gostar de me acompanhar naquela casca de nozes balançando sobre as ondas. Depois do almoço, saí para fazer um passeio até a beira do mar, descendo por entre as rochas que formam o cabo, logo abaixo de onde ficam os sinais e os faróis. Depois de chegar perto do mar, subi até o pequeno vale que antecede os sinais, escalando as rochas e as falésias; e, surpreendentemente, não fiquei nem cansado nem sem fôlego, como eu costumava ficar quando subia uma simples escada. Voltei passando pela capela de Notre Dame des Flots [Nossa Senhora das Ondas], e desci novamente até a beira do mar para jantar no parque das ostras. Voltei para casa às 19h30; estava um pouco cansado e fui deitar; /3/ dormi até as 8h da manhã. Nesses últimos dias, o tempo está excelente, sem nuvens no céu, um sol esplêndido; um mar tranquilo como um lago repleto de navios e embarcações de vários tamanhos: é um espetáculo encantador. <O mar extenso> é para mim uma grande distração; constato a beleza disso a cada dia; não há um ponto distante no horizonte que eu não explore, e frequentemente me dou conta de observações interessantes e instrutivas que me fazem meditar, pois tudo é instrução para quem quer refletir.  O próximo domingo será meu último domingo aqui; terei uma pequena reunião espírita na casa do senhor Rodier, que faz questão de me receber; logo após, farei os preparativos para a minha partida. O dia em que irei embora ainda não está decidido, mas penso que será na terça ou, no mais tardar, na quarta-feira; de qualquer modo, eu te avisarei.  Irei de ônibus, por volta das 10h30 da manhã; assim chegarei às 18h30, uma hora cômoda para todos.  Até breve, querida Amélie,  Carinhosamente,  A.K.  PS: Quando tu me escreveres novamente, tenta me enviar tua carta na manhã de domingo e certifica-te, se possível, de incluir a comunicação de Costeau.\""
   ]
  },
  {
   "cell_type": "code",
   "execution_count": 9,
   "id": "900422f8-d250-4519-8d8c-5534a7af617b",
   "metadata": {},
   "outputs": [
    {
     "name": "stdout",
     "output_type": "stream",
     "text": [
      "Terça-feira, 15 de setembro de 1863.  Minha querida Amélie, recebi tua carta esta manhã e, embora de minha parte eu não tenha nada de especial para te dizer, não queria demorar para agradecer ao senhor d’Ambel e ao senhor Canu pelo que eles fizeram pela senhora Costeau, pois atuaram como verdadeiros espíritas; a fala deles foi admirável; demonstraram ter bondade, o que não me surpreende, pois a fé que eles têm é sincera. Agradeço, igualmente, ao senhor Vézy.  Em relação à viúva, tu sabes que o senhor Prévent deu-me 200 francos para as boas obras; tu podes valer-te dessa quantia para ajudá-la. Esse dinheiro não poderia ter melhor destino.  Estou entusiasmado com as boas notícias que tu me deste; os Espíritos tinham razão em me dizer que, quando voltasse, eu encontraria um progresso significativo. A comunicação que Erasto me fez através do senhor d’Ambel me é muito encorajadora, e por isso lhe agradeço; a mensagem está de acordo com aquela que A Verdade me comunicou através da senhora Judith.  Tu não me disseste nada a respeito da tua saúde, o que me faz presumir que ela esteja bem, mas /2/ eu ficaria mais tranquilo se tivesse uma confirmação a esse respeito. Quanto a mim, estou muito bem; os últimos banhos que tomei me fortaleceram de uma maneira incrível; não tenho mais aquela fraqueza nas pernas que eu vinha sentindo há muito tempo. Pude provar isso no domingo. O tempo estava muito bom, e eu estava bem tranquilo, ou seja, quase não tive trabalho. Após meu banho, fiz um longo passeio no mar em um pequeno barco a vela e, embora o mar estivesse calmo, pensei que tu não irias gostar de me acompanhar naquela casca de nozes balançando sobre as ondas. Depois do almoço, saí para fazer um passeio até a beira do mar, descendo por entre as rochas que formam o cabo, logo abaixo de onde ficam os sinais e os faróis. Depois de chegar perto do mar, subi até o pequeno vale que antecede os sinais, escalando as rochas e as falésias; e, surpreendentemente, não fiquei nem cansado nem sem fôlego, como eu costumava ficar quando subia uma simples escada. Voltei passando pela capela de Notre Dame des Flots [Nossa Senhora das Ondas], e desci novamente até a beira do mar para jantar no parque das ostras. Voltei para casa às 19h30; estava um pouco cansado e fui deitar; /3/ dormi até as 8h da manhã. Nesses últimos dias, o tempo está excelente, sem nuvens no céu, um sol esplêndido; um mar tranquilo como um lago repleto de navios e embarcações de vários tamanhos: é um espetáculo encantador. <O mar extenso> é para mim uma grande distração; constato a beleza disso a cada dia; não há um ponto distante no horizonte que eu não explore, e frequentemente me dou conta de observações interessantes e instrutivas que me fazem meditar, pois tudo é instrução para quem quer refletir.  O próximo domingo será meu último domingo aqui; terei uma pequena reunião espírita na casa do senhor Rodier, que faz questão de me receber; logo após, farei os preparativos para a minha partida. O dia em que irei embora ainda não está decidido, mas penso que será na terça ou, no mais tardar, na quarta-feira; de qualquer modo, eu te avisarei.  Irei de ônibus, por volta das 10h30 da manhã; assim chegarei às 18h30, uma hora cômoda para todos.  Até breve, querida Amélie,  Carinhosamente,  A.K.  PS: Quando tu me escreveres novamente, tenta me enviar tua carta na manhã de domingo e certifica-te, se possível, de incluir a comunicação de Costeau.\n"
     ]
    }
   ],
   "source": [
    "print(text)"
   ]
  },
  {
   "cell_type": "code",
   "execution_count": 12,
   "id": "5f6008a3-9b0d-4dc7-8b61-42e665cc2e33",
   "metadata": {},
   "outputs": [
    {
     "name": "stderr",
     "output_type": "stream",
     "text": [
      "Setting `pad_token_id` to `eos_token_id`:2 for open-end generation.\n"
     ]
    },
    {
     "name": "stdout",
     "output_type": "stream",
     "text": [
      "{\n",
      "\"entities\": [\n",
      "{\n",
      "\"label\": \"Person\",\n",
      "\"id\": \"person1\",\n",
      "\"name\": \"Amélie\"\n",
      "},\n",
      "{\n",
      "\"label\": \"Person\",\n",
      "\"id\": \"person2\",\n",
      "\"name\": \"senhor d’Ambel\"\n",
      "},\n",
      "{\n",
      "\"label\": \"Person\",\n",
      "\"id\": \"person3\",\n",
      "\"name\": \"senhor Canu\"\n",
      "},\n",
      "{\n",
      "\"label\": \"Person\",\n",
      "\"id\": \"person4\",\n",
      "\"name\": \"senhora Costeau\"\n",
      "},\n",
      "{\n",
      "\"label\": \"Person\",\n",
      "\"id\": \"person5\",\n",
      "\"name\": \"senhor Prevent\"\n",
      "},\n",
      "{\n",
      "\"label\": \"Person\",\n",
      "\"id\": \"person6\",\n",
      "\"name\": \"senhor Rodier\"\n",
      "}\n",
      "]\n",
      "}\n",
      "\n",
      "Explanation:\n",
      "The text mentions several persons named Amélie, senhor d’Ambel, senhor Canu, senhora Costeau, senhor Prevent, and senhor Rodier. We have extracted their names as separate entities with unique ids.\n",
      "48.36031889915466\n"
     ]
    }
   ],
   "source": [
    "from langchain.chains import LLMChain\n",
    "prompttemplate=PromptTemplate(template=person_prompt_tpl,input_variables=['text'])\n",
    "chain=LLMChain(llm=llm,prompt=prompttemplate)\n",
    "import time\n",
    "t1=time.time()\n",
    "result=chain(text)\n",
    "t2=time.time()\n",
    "\n",
    "print(t2-t1)"
   ]
  },
  {
   "cell_type": "code",
   "execution_count": 13,
   "id": "7e655fe8-6988-48be-b46e-3079ff8557d8",
   "metadata": {},
   "outputs": [],
   "source": [
    "place_prompt_tpl=\"\"\"From the text below written in Portuguese language, extract Entities strictly as instructed below\n",
    "1. First, look for the Place Entity type in the text and extract the needed information defined below:\n",
    "   `id` property of each entity must be alphanumeric and must be unique among the entities. You will be referring this property to define the relationship between entities. NEVER create new entity types that aren't mentioned below. Document must be summarized and stored inside Person entity under `description` property\n",
    "    Entity Types:\n",
    "    label:'Place',id:string,name:string //Place Node\n",
    "2. If you cannot find any information on the entities & relationships above, it is okay to return empty value. DO NOT create fictious data\n",
    "3. Do NOT create duplicate entities\n",
    "5. Restrict yourself to extract only Person information. No other information should be focussed.\n",
    "6. NEVER Impute missing values\n",
    "Example Output JSON:\n",
    "{{\"entities\": [{{\"label\":\"Place\",\"id\":\"place1\",\"name\":\"Paris\"}}]}}\n",
    "\n",
    "Question: Now, extract the Place for the text below -\n",
    "\n",
    "{text}\n",
    "\n",
    "Answer:\n",
    "\"\"\""
   ]
  },
  {
   "cell_type": "code",
   "execution_count": 14,
   "id": "f2347fb7-f585-4c9e-a5bf-4a4f82a4a58f",
   "metadata": {},
   "outputs": [
    {
     "name": "stderr",
     "output_type": "stream",
     "text": [
      "Setting `pad_token_id` to `eos_token_id`:2 for open-end generation.\n"
     ]
    },
    {
     "name": "stdout",
     "output_type": "stream",
     "text": [
      "{\"entities\": []}\n",
      "1.7141742706298828\n"
     ]
    }
   ],
   "source": [
    "from langchain.chains import LLMChain\n",
    "prompttemplate=PromptTemplate(template=place_prompt_tpl,input_variables=['text'])\n",
    "chain=LLMChain(llm=llm,prompt=prompttemplate)\n",
    "import time\n",
    "t1=time.time()\n",
    "result=chain(text)\n",
    "t2=time.time()\n",
    "\n",
    "print(t2-t1)"
   ]
  },
  {
   "cell_type": "code",
   "execution_count": 20,
   "id": "63c397a6-f659-4316-844a-e0f9c803e3b4",
   "metadata": {},
   "outputs": [],
   "source": [
    "text=\" Contratei uma assistente recomendada pelo senhor Ballet. É uma jovem que me parece bastante adequada. Como ela deve começar apenas na segunda-feira, ainda não a vi trabalhando; mas outra coisa que te fará compreender a necessidade de não prolongar demais a tua ausência, embora eu sinta o quanto a tua presença é agradável e necessária para os teus pais e o quanto a estada no campo pode também ser-te salutar, é que Morin está nos deixando. Seu irmão veio me contar que seus pais lamentam não terem mais seus filhos e que estão os chamando de volta em alto e bom som. Expressei de forma clara o que penso sobre essa maneira de agir e sobre essa instabilidade de ideias. Ela continuará até que tenhamos alguém; mas é preciso substituí-la, o que é muito desagradável, pois ela faz muito bem o seu trabalhinho. Já comecei a procurar, mas ainda não encontrei ninguém; exceto uma jovem de apenas 15 anos, com pouca presença e, aliás, muito instruída; não creio que isso seja conveniente. Além disso, a senhora Vorler está gravemente doente desde ontem, quinta-feira; de modo que hoje estamos com dois professores a menos; assim, as coisas funcionam como podem; felizmente, não há muitas alunas. \""
   ]
  },
  {
   "cell_type": "code",
   "execution_count": 21,
   "id": "d53075d0-7cf8-4cee-bb29-acd3be701954",
   "metadata": {},
   "outputs": [
    {
     "name": "stderr",
     "output_type": "stream",
     "text": [
      "Setting `pad_token_id` to `eos_token_id`:2 for open-end generation.\n"
     ]
    },
    {
     "name": "stdout",
     "output_type": "stream",
     "text": [
      "[\n",
      " {\n",
      "   \"label\": \"Person\",\n",
      "   \"id\": \"ballet\",\n",
      "   \"name\": \"Ballet\"\n",
      " },\n",
      " {\n",
      "   \"label\": \"Person\",\n",
      "   \"id\": \"morin\",\n",
      "   \"name\": \"Morin\"\n",
      " }\n",
      "]\n",
      "13.648610830307007\n"
     ]
    }
   ],
   "source": [
    "from langchain.chains import LLMChain\n",
    "prompttemplate=PromptTemplate(template=person_prompt_tpl,input_variables=['text'])\n",
    "chain=LLMChain(llm=llm,prompt=prompttemplate)\n",
    "import time\n",
    "t1=time.time()\n",
    "result=chain(text)\n",
    "t2=time.time()\n",
    "\n",
    "print(t2-t1)"
   ]
  },
  {
   "cell_type": "code",
   "execution_count": null,
   "id": "ecdbadc9-2210-4d9f-8442-f34d30112cff",
   "metadata": {},
   "outputs": [],
   "source": []
  }
 ],
 "metadata": {
  "kernelspec": {
   "display_name": "Python 3 (ipykernel)",
   "language": "python",
   "name": "python3"
  },
  "language_info": {
   "codemirror_mode": {
    "name": "ipython",
    "version": 3
   },
   "file_extension": ".py",
   "mimetype": "text/x-python",
   "name": "python",
   "nbconvert_exporter": "python",
   "pygments_lexer": "ipython3",
   "version": "3.11.5"
  }
 },
 "nbformat": 4,
 "nbformat_minor": 5
}
