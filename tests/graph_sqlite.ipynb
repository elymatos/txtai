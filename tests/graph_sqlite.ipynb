{
 "cells": [
  {
   "cell_type": "code",
   "execution_count": 1,
   "id": "e4db3a92-382f-4a38-8251-d67a63f5610d",
   "metadata": {},
   "outputs": [
    {
     "name": "stderr",
     "output_type": "stream",
     "text": [
      "/home/ematos/miniconda3/envs/txtai-env/lib/python3.12/site-packages/pydantic/_internal/_config.py:341: UserWarning: Valid config keys have changed in V2:\n",
      "* 'underscore_attrs_are_private' has been removed\n",
      "  warnings.warn(message, UserWarning)\n",
      "/home/ematos/miniconda3/envs/txtai-env/lib/python3.12/site-packages/transformers/tokenization_utils_base.py:1601: FutureWarning: `clean_up_tokenization_spaces` was not set. It will be set to `True` by default. This behavior will be depracted in transformers v4.45, and will be then set to `False` by default. For more details check this issue: https://github.com/huggingface/transformers/issues/31884\n",
      "  warnings.warn(\n"
     ]
    }
   ],
   "source": [
    "import os\n",
    "import sqlite3\n",
    "\n",
    "from txtai.embeddings import Embeddings\n",
    "\n",
    "# Create embeddings instance with a semantic graph\n",
    "embeddings = Embeddings({\n",
    "  \"path\": \"sentence-transformers/all-MiniLM-L6-v2\",\n",
    "  \"content\": True,\n",
    "  \"functions\": [\n",
    "    {\"name\": \"graph\", \"function\": \"graph.attribute\"},\n",
    "  ],\n",
    "  \"expressions\": [\n",
    "      {\"name\": \"category\", \"expression\": \"graph(indexid, 'category')\"},\n",
    "      {\"name\": \"topic\", \"expression\": \"graph(indexid, 'topic')\"},\n",
    "      {\"name\": \"topicrank\", \"expression\": \"graph(indexid, 'topicrank')\"}\n",
    "  ],\n",
    "  \"graph\": {\n",
    "      \"limit\": 15,\n",
    "      \"minscore\": 0.1,\n",
    "      \"topics\": {\n",
    "          \"categories\": [\"Rascunho de carta\",\n",
    "                            \"Carta\",\n",
    "                            \"Nota\",\n",
    "                            \"Cópia de carta\",\n",
    "                            \"Prece\",\n",
    "                            \"Evocação\",\n",
    "                            \"Fragmento\",\n",
    "                            \"Psicografia\",\n",
    "                            \"Imagem\",\n",
    "                            \"Discurso\",\n",
    "                            \"Escritura\",\n",
    "                            \"Comunicação\",\n",
    "                            \"Diálogo\",\n",
    "                            \"Prova de página\",\n",
    "                            \"Inventário\",\n",
    "                            \"Dissertação\",\n",
    "                            \"Impresso\",\n",
    "                            \"Anotação\",\n",
    "                            \"Bilhete\",\n",
    "                            \"Caderno de cartas\"]\n",
    "      }\n",
    "  }\n",
    "})\n",
    "\n",
    "# Connection to database file\n",
    "db_dir = os.path.abspath(\"/home/ematos/devel/kardec/kardec_laravel/database\")\n",
    "database_file = os.path.join(db_dir, \"dataset.txtai.sqlite3\")\n",
    "\n",
    "db = sqlite3.connect(database_file)\n",
    "cur = db.cursor()\n",
    "\n",
    "# Select tagged sentences without a NLP label. NLP labels are set for non-informative sentences.\n",
    "cur.execute(\"SELECT idSentence as id, sentence as text from sentence\")\n",
    "\n",
    "#for row in cur:\n",
    "  # Unpack row\n",
    "#  uid, text = row\n",
    "#  print(uid)\n",
    "#  print(text)\n",
    "#  embeddings.index(uid, text)\n",
    "embeddings.index(cur)\n",
    "# Free database resources\n",
    "db.close()\n",
    "\n",
    "# Store reference to graph\n",
    "graph = embeddings.graph"
   ]
  },
  {
   "cell_type": "code",
   "execution_count": 2,
   "id": "bb18da54-c3ef-44b9-bbf0-96edb10cc469",
   "metadata": {},
   "outputs": [
    {
     "data": {
      "text/plain": [
       "954"
      ]
     },
     "execution_count": 2,
     "metadata": {},
     "output_type": "execute_result"
    }
   ],
   "source": [
    "len(embeddings.graph.topics)"
   ]
  },
  {
   "cell_type": "code",
   "execution_count": 3,
   "id": "41367c99-de1e-4149-832e-d367e93c1c6c",
   "metadata": {
    "scrolled": true
   },
   "outputs": [
    {
     "data": {
      "text/plain": [
       "['de_e_o_que',\n",
       " 'o_se_que_e',\n",
       " 'senhor_de_morin_grupo',\n",
       " 'bordeaux_o_que_para',\n",
       " 'médium_senhor_senhora_desliens']"
      ]
     },
     "execution_count": 3,
     "metadata": {},
     "output_type": "execute_result"
    }
   ],
   "source": [
    "list(graph.topics.keys())[:5]"
   ]
  },
  {
   "cell_type": "code",
   "execution_count": 4,
   "id": "7dbd4c75-3641-45d0-95b5-0fe55067e374",
   "metadata": {},
   "outputs": [
    {
     "name": "stdout",
     "output_type": "stream",
     "text": [
      "Caderno de cartas de_e_o_que\n",
      "Impresso o_se_que_e\n",
      "Caderno de cartas senhor_de_morin_grupo\n",
      "Caderno de cartas bordeaux_o_que_para\n",
      "Cópia de carta médium_senhor_senhora_desliens\n"
     ]
    }
   ],
   "source": [
    "for x, topic in enumerate(list(graph.topics.keys())[:5]):\n",
    "  print(graph.categories[x], topic)"
   ]
  },
  {
   "cell_type": "code",
   "execution_count": 5,
   "id": "1e200b70-bd10-4d66-93ad-90624d3e5083",
   "metadata": {},
   "outputs": [
    {
     "name": "stdout",
     "output_type": "stream",
     "text": [
      "No selvagem .\n"
     ]
    }
   ],
   "source": [
    "print(embeddings.search(\"select text from txtai where similar('viagem')\", 1)[0][\"text\"])"
   ]
  },
  {
   "cell_type": "code",
   "execution_count": 7,
   "id": "1bab838f-4e53-46e3-a4b7-7e02a5badf4d",
   "metadata": {},
   "outputs": [
    {
     "name": "stdout",
     "output_type": "stream",
     "text": [
      "que_é_espíritos_personalidades (900)\n",
      "sua_é_seus_nas (938)\n",
      "dúvida_que_é_será (890)\n",
      "para_e_bem_não (768)\n",
      "que_é_da_espíritos (874)\n"
     ]
    }
   ],
   "source": [
    "centrality = graph.centrality()\n",
    "\n",
    "topics = list(graph.topics.keys())\n",
    "\n",
    "for uid in list(centrality.keys())[:5]:\n",
    "  topic = graph.attribute(uid, \"topic\")\n",
    "  print(f\"{topic} ({topics.index(topic)})\")"
   ]
  },
  {
   "cell_type": "code",
   "execution_count": 9,
   "id": "f7b31ec6-7978-47d7-82fd-2cf07aedaee9",
   "metadata": {},
   "outputs": [
    {
     "name": "stdout",
     "output_type": "stream",
     "text": [
      "Como a punição justa e merecida é inteiramente encontrada nas novas provas de cada reencarnação, o espírito poderia antever, entre cada uma delas, ou seja, durante a sua permanência no mundo espiritual, os seus sofrimentos futuros.\n"
     ]
    }
   ],
   "source": [
    "print(embeddings.search(\"select text from txtai where topic='sua_é_seus_nas'\")[0][\"text\"])"
   ]
  },
  {
   "cell_type": "code",
   "execution_count": null,
   "id": "e1faf312-7348-45c2-b372-1b6faac4bd0a",
   "metadata": {},
   "outputs": [],
   "source": []
  }
 ],
 "metadata": {
  "kernelspec": {
   "display_name": "Python 3 (ipykernel)",
   "language": "python",
   "name": "python3"
  },
  "language_info": {
   "codemirror_mode": {
    "name": "ipython",
    "version": 3
   },
   "file_extension": ".py",
   "mimetype": "text/x-python",
   "name": "python",
   "nbconvert_exporter": "python",
   "pygments_lexer": "ipython3",
   "version": "3.12.2"
  }
 },
 "nbformat": 4,
 "nbformat_minor": 5
}
